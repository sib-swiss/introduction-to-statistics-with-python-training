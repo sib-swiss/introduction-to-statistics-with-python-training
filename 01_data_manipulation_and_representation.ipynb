{
 "cells": [
  {
   "cell_type": "markdown",
   "metadata": {},
   "source": [
    "# Table of Content <a id='toc'></a>\n",
    "\n",
    "[1. Reading the data](#0)\n",
    "\n",
    "[2. data manipulation](#1)\n",
    "\n",
    "&nbsp;&nbsp;&nbsp;&nbsp;[2.1 first contact with the data](#2)\n",
    "\n",
    "&nbsp;&nbsp;&nbsp;&nbsp;[2.2 accessing specific parts of the data](#3)\n",
    "\n",
    "&nbsp;&nbsp;&nbsp;&nbsp;[2.3 adding and combining columns](#4)\n",
    "\n",
    "&nbsp;&nbsp;&nbsp;&nbsp;[Exercise 01 - data manipulation](#5)\n",
    "\n",
    "[3. data description and representation](#6)\n",
    "\n",
    "&nbsp;&nbsp;&nbsp;&nbsp;[3.1 basic description - common summary statistics](#7)\n",
    "\n",
    "&nbsp;&nbsp;&nbsp;&nbsp;[3.2 Representing one column - histograms and density line](#8)\n",
    "\n",
    "&nbsp;&nbsp;&nbsp;&nbsp;[Exercise 02 - histograms](#9)\n",
    "\n",
    "&nbsp;&nbsp;&nbsp;&nbsp;[3.3 accounting for categories in the data](#10)\n",
    "\n",
    "&nbsp;&nbsp;&nbsp;&nbsp;&nbsp;&nbsp;&nbsp;&nbsp;[3.3.1 Boxplots](#11)\n",
    "\n",
    "&nbsp;&nbsp;&nbsp;&nbsp;&nbsp;&nbsp;&nbsp;&nbsp;[3.3.2 violin-plots](#12)\n",
    "\n",
    "&nbsp;&nbsp;&nbsp;&nbsp;&nbsp;&nbsp;&nbsp;&nbsp;[3.3.3 barplots and their error bars](#13)\n",
    "\n",
    "&nbsp;&nbsp;&nbsp;&nbsp;&nbsp;&nbsp;&nbsp;&nbsp;[3.3.4 showing several categorizations at the same time](#14)\n",
    "\n",
    "&nbsp;&nbsp;&nbsp;&nbsp;[Exercise 03 - representing categories](#15)\n",
    "\n",
    "[4 Additional types of plots and some *caveat* about graphical representations](#16)"
   ]
  },
  {
   "cell_type": "markdown",
   "metadata": {},
   "source": [
    "# importing, manipulating, and representing data \n",
    "\n",
    "The basis of any statistical analysis is the underlying data.\n",
    "\n",
    "A data-set is typically presented as a file containing information formatted as a table:\n",
    " * each line correspond to an observation ( individual, sample, ... )\n",
    " * each column correspond to a measured variable ( height, sex, gene expression, ... )\n",
    "\n",
    "\n",
    "To read data file and manipulate the data, we will rely on [pandas](https://pandas.pydata.org/)\n",
    "Pandas is a \"high-level\" module, designed for statistics/exploratory analysis.\n",
    "A great strength of pandas is its **DataFrame** which emulates many of the convenient behavior and syntax of their eponym counterpart in the **R** language.\n",
    "\n",
    "\n",
    "To graphically represent the data, we will rely on [seaborn](https://seaborn.pydata.org/index.html).\n",
    "Seaborn is designed to work hand-in-hand with pandas DataDrame to produce **efficient data representation** from fairly simple commands. They propose very good tutorials as well as a gallery (with associated code) that can get you started quickly.\n"
   ]
  },
  {
   "cell_type": "code",
   "execution_count": null,
   "metadata": {},
   "outputs": [],
   "source": [
    "import pandas as pd\n",
    "import matplotlib.pyplot as plt\n",
    "import seaborn as sns\n",
    "print('OK')\n",
    "\n",
    "### This is some configuration to make the plots work better when presenting online\n",
    "%matplotlib inline\n",
    "\n",
    "import matplotlib.pylab as pylab\n",
    "pylab.rcParams['figure.figsize'] = 10, 10\n",
    "plt.rc(\"font\", size=16)\n"
   ]
  },
  {
   "cell_type": "markdown",
   "metadata": {},
   "source": [
    "\n",
    "[back to the toc](#toc)\n",
    "\n",
    "<br>\n",
    "\n",
    "## 1. Reading the data <a id='0'></a>\n",
    "\n",
    "what is the file name? location?\n",
    "what is the saprator between fields??\n",
    "\n",
    "\n",
    "`pd.read_table` is a generalistic function to read table. Aside from the name of the file to read, here are some useful parameters:\n",
    "* `sep` : separator between columns (by default '\\t')\n",
    "* `header` : Row number(s) to use as the column names. By default it will use the first line as a header. use `header=None` if the file does not contain column name.\n",
    "* `skiprows` : Line numbers to skip (0-indexed) or number of lines to skip (int) at the start of the file.\n",
    "* (`true_values`/`false_values` can also be useful)\n",
    "\n",
    "Of course you can learn (much) more using `help(pd.read_table)`.\n",
    "\n",
    "\n",
    "\n",
    "\n",
    "The data we will be playing with is census data of the swiss population for the year 1880 [source](https://www.bfs.admin.ch/bfs/en/home/statistics/population/surveys/census.assetdetail.11047857.html).\n",
    "The data-file is named `\"swiss_census_1880.csv\"` and like its extension suggests, it contains **C**omma-**S**eparated **V**alues.\n"
   ]
  },
  {
   "cell_type": "code",
   "execution_count": null,
   "metadata": {},
   "outputs": [],
   "source": [
    "import pandas as pd\n",
    "\n",
    "df = pd.read_table(\"data/swiss_census_1880.csv\" , sep=',') \n",
    "#try to see what happens when sep has a different value\n",
    "\n",
    "df.head() # this returns the 5 first lines of the table"
   ]
  },
  {
   "cell_type": "markdown",
   "metadata": {},
   "source": [
    "\n",
    "[back to the toc](#toc)\n",
    "\n",
    "<br>\n",
    "\n",
    "## 2. data manipulation <a id='1'></a>\n",
    "\n",
    "\n",
    "[back to the toc](#toc)\n",
    "\n",
    "<br>\n",
    "\n",
    "### 2.1 first contact with the data <a id='2'></a>\n",
    "\n",
    "Gathering basic information about the data-set is fairly easy :"
   ]
  },
  {
   "cell_type": "code",
   "execution_count": null,
   "metadata": {},
   "outputs": [],
   "source": [
    "numberRows , numberCols = df.shape\n",
    "print('rows:',numberRows , 'columns:',numberCols)\n",
    "print('column names')\n",
    "df.columns"
   ]
  },
  {
   "cell_type": "code",
   "execution_count": null,
   "metadata": {},
   "outputs": [],
   "source": [
    "print( \"columns types:\\n\" ,df.dtypes )# lists the types"
   ]
  },
  {
   "cell_type": "markdown",
   "metadata": {},
   "source": [
    "Here we can see that most values are integers, save for names (town names, canton, ...)."
   ]
  },
  {
   "cell_type": "markdown",
   "metadata": {},
   "source": [
    "\n",
    "[back to the toc](#toc)\n",
    "\n",
    "<br>\n",
    "\n",
    "### 2.2 accessing specific parts of the data <a id='3'></a>\n",
    "\n",
    "One can access a column just by using `df[<column name>]`  or `df.column_name` :"
   ]
  },
  {
   "cell_type": "code",
   "execution_count": null,
   "metadata": {},
   "outputs": [],
   "source": [
    "df['Foreigner']"
   ]
  },
  {
   "cell_type": "markdown",
   "metadata": {},
   "source": [
    "To access a **specific section of the data, use the `.loc[ : , : ]` operator.**\n",
    "It takes two slicing arguments thatt, respectively, targets rows and columns. A `:` selects all elements."
   ]
  },
  {
   "cell_type": "code",
   "execution_count": null,
   "metadata": {},
   "outputs": [],
   "source": [
    "df.loc[ 0:3 , : ] ### first 4 rows, all columns"
   ]
  },
  {
   "cell_type": "code",
   "execution_count": null,
   "metadata": {},
   "outputs": [],
   "source": [
    "df.loc[ 0:3 , [ 'Total' , 'town name' ] ] ### first 4 rows, columns 'town name' and 'Total'"
   ]
  },
  {
   "cell_type": "code",
   "execution_count": null,
   "metadata": {},
   "outputs": [],
   "source": [
    "df.loc[ : , 'Total' ] ### all rows, column 'Total'"
   ]
  },
  {
   "cell_type": "markdown",
   "metadata": {},
   "source": [
    "> There also exists the `.iloc[ : , : ]` operator to select columns (and rows) by index instead of names. See this [pandas tutorial](https://pandas.pydata.org/pandas-docs/stable/user_guide/indexing.html) for more details and recipes.\n"
   ]
  },
  {
   "cell_type": "markdown",
   "metadata": {},
   "source": [
    "Another, powerful, way of accessing specific part of the data is by defining a mask, which will **filter the data through a particular condition**.\n"
   ]
  },
  {
   "cell_type": "code",
   "execution_count": null,
   "metadata": {},
   "outputs": [],
   "source": [
    "maskVD = df.canton == 'VD'  # df['canton']\n",
    "maskVD.value_counts()"
   ]
  },
  {
   "cell_type": "markdown",
   "metadata": {},
   "source": [
    "The mask (in fact a `pandas.core.series.Series`), is in effect a list of values that are ```True``` or `False` depending on whether or not they satisfy the defined condition (canton is equal to 'VD', here).\n",
    "\n",
    "The mask can then be applied to the `DataFrame`."
   ]
  },
  {
   "cell_type": "code",
   "execution_count": null,
   "metadata": {},
   "outputs": [],
   "source": [
    "df.loc[ maskVD  , ['town name','canton','canton name'] ]"
   ]
  },
  {
   "cell_type": "markdown",
   "metadata": {},
   "source": [
    "Masks may be combined to produce more complex selection criteria, using **`&`** (logical and) and **`|`** (logical or)."
   ]
  },
  {
   "cell_type": "code",
   "execution_count": null,
   "metadata": {
    "scrolled": true
   },
   "outputs": [],
   "source": [
    "# towns in the canton of Zurich and with more than 10 000 registered inhabitant\n",
    "mask = (df.canton == 'ZH') & ( df.Total >= 10000  ) \n",
    "\n",
    "df.loc[ mask , ]"
   ]
  },
  {
   "cell_type": "markdown",
   "metadata": {},
   "source": [
    "**micro-exercise :** Select towns with less than 1000 inhabitants (column `Total`), (*optional*: display only town name and number of inhabitants)"
   ]
  },
  {
   "cell_type": "code",
   "execution_count": null,
   "metadata": {},
   "outputs": [],
   "source": []
  },
  {
   "cell_type": "markdown",
   "metadata": {},
   "source": [
    "\n",
    "[back to the toc](#toc)\n",
    "\n",
    "<br>\n",
    "\n",
    "### 2.3 adding and combining columns <a id='4'></a>\n",
    "\n",
    "New columns are easy to create from existing ones :"
   ]
  },
  {
   "cell_type": "code",
   "execution_count": null,
   "metadata": {},
   "outputs": [],
   "source": [
    "df['14+ y.o.'] = df['15-59 y.o.'] + df['60+ y.o.']\n",
    "df['14+ y.o.'].head()"
   ]
  },
  {
   "cell_type": "code",
   "execution_count": null,
   "metadata": {},
   "outputs": [],
   "source": [
    "df.columns"
   ]
  },
  {
   "cell_type": "markdown",
   "metadata": {},
   "source": [
    "Removing columns is about as easy:"
   ]
  },
  {
   "cell_type": "code",
   "execution_count": null,
   "metadata": {},
   "outputs": [],
   "source": [
    "df.drop(columns='14+ y.o.' , inplace=True) # use the 'rows' argument to remove rows instead\n",
    "print(\"is '14+ y.o.' part of the columns : \" , '14+ y.o.' in df.columns)"
   ]
  },
  {
   "cell_type": "markdown",
   "metadata": {},
   "source": [
    "\n",
    "[back to the toc](#toc)\n",
    "\n",
    "<br>\n",
    "\n",
    "# Exercise 01 - data manipulation <a id='5'></a>\n",
    "\n",
    "1. Select towns with less than 1000 inhabitants, or with more than 1 Foreigner. How many such towns are there? (*hint:* build from the last micro-exercise)\n",
    "2. Create a new column is the `DataFrame` representing the fraction of population which is Reformed in each town.\n",
    "(*optional : What is the minimum/maximum value for this fraction?*)"
   ]
  },
  {
   "cell_type": "code",
   "execution_count": null,
   "metadata": {},
   "outputs": [],
   "source": []
  },
  {
   "cell_type": "code",
   "execution_count": null,
   "metadata": {},
   "outputs": [],
   "source": [
    "# %load -r 1-8 solutions/solution_01_01.py\n",
    "# 1. Select towns with less than 1000 inhabitants, or with more than 1 Foreigner. How many such towns are there?"
   ]
  },
  {
   "cell_type": "code",
   "execution_count": null,
   "metadata": {},
   "outputs": [],
   "source": [
    "# %load -r 9- solutions/solution_01_01.py\n",
    "#2. Create a new column is the `DataFrame` representing the fraction of population which is Reformed in each town."
   ]
  },
  {
   "cell_type": "markdown",
   "metadata": {},
   "source": [
    "# Interlude\n",
    "\n",
    "For the rest of the notebook, we will be not be using the counts themselves much, but rather their corresponding fraction of the registered populations. \n",
    "Le'ts create another DataFrame to ease our process:"
   ]
  },
  {
   "cell_type": "code",
   "execution_count": null,
   "metadata": {},
   "outputs": [],
   "source": [
    "dfFractions = df.loc[:, ['town name','canton','canton name' , 'Total'] ]\n",
    "\n",
    "columnsOfInterest = [ 'Swiss', 'Foreigner','Male', 'Female', '0-14 y.o.', '15-59 y.o.', '60+ y.o.', 'Reformed','Catholic', 'Other', 'German speakers', 'French speakers','Italian speakers', 'Romansche speakers','Non-national tongue speakers' ]\n",
    "for x in columnsOfInterest:\n",
    "    dfFractions[x] = df[x]/df['Total']\n",
    "dfFractions.head()"
   ]
  },
  {
   "cell_type": "markdown",
   "metadata": {},
   "source": [
    "\n",
    "[back to the toc](#toc)\n",
    "\n",
    "<br>\n",
    "\n",
    "## 3. data description and representation <a id='6'></a>\n"
   ]
  },
  {
   "cell_type": "markdown",
   "metadata": {},
   "source": [
    "\n",
    "[back to the toc](#toc)\n",
    "\n",
    "<br>\n",
    "\n",
    "### 3.1 basic description - common summary statistics <a id='7'></a>\n"
   ]
  },
  {
   "cell_type": "code",
   "execution_count": null,
   "metadata": {},
   "outputs": [],
   "source": [
    "dfFractions.describe()"
   ]
  },
  {
   "cell_type": "markdown",
   "metadata": {},
   "source": [
    "The `.describe()` function gives information about all numerical columns in the data-set at once (note that non-numerical values are absent here).\n",
    "\n",
    "It is very useful not only to get a first impression on the data-set, but also to catch eventual errors in the data : a negative number where there should be only positive values, missing values (NAs), ...\n",
    "\n",
    "We will not demonstrate missing value handling and imputation in this course (in fact we would need a whole course to do that properly). But nevertheless, here are 2 good functions that you have to know about on this topic:\n",
    " * [`.isna`](https://pandas.pydata.org/docs/reference/api/pandas.DataFrame.isna.html) : detect missing values.\n",
    " * [`.fillna`](https://pandas.pydata.org/docs/reference/api/pandas.DataFrame.fillna.html) : imputation helper method. "
   ]
  },
  {
   "cell_type": "markdown",
   "metadata": {},
   "source": [
    "`.describe()` gives access to some of the most commonly used summary statistics:\n",
    "* (arithmetic) **mean** : ${\\displaystyle \\bar{x}={\\frac {1}{n}}\\sum _{i=1}^{n}x_{i}}$  or, for coders : `sum(x)/len(x)`\n",
    "* **standard deviation** (a.k.a. std, stdev) : this corresponds to the average of the absolute difference to the mean. It is the **square root of the variance**.\n",
    "* **minimum** and **maximum**: smallest and biggest value among the data. Looking at them can help detect outliers.\n",
    "* **Quartiles** : they correspond to the value such that\n",
    "    * 25% (first quartile, Q1), \n",
    "    * 50% (second quartile, Q2, median), or\n",
    "    * 75% (second quartile, Q3)\n",
    "    \n",
    "      of the values are lower than them. They are less sensitive than the mean to outlier values.\n",
    "\n",
    "To these, one could also add the **mode**: the most common value (discrete data), or the value with the maximum density (continuous data). Data distributions with multiple peaks (e.g., in the presence of multiple subpopulations) are called multimodal.\n",
    "\n",
    "Sometimes mode, median and mean coincide, other times they can be quite different. \n",
    "\n",
    "This is best demonstrated demonstrated visually, which is why we will be talking about ..."
   ]
  },
  {
   "cell_type": "markdown",
   "metadata": {},
   "source": [
    "\n",
    "[back to the toc](#toc)\n",
    "\n",
    "<br>\n",
    "\n",
    "### 3.2 Representing one column - histograms and density line <a id='8'></a>\n",
    "\n",
    "The simplest way to represent the distribution of a set of values using `seaborn` is to use the function `sns.histplot`:\n"
   ]
  },
  {
   "cell_type": "code",
   "execution_count": null,
   "metadata": {},
   "outputs": [],
   "source": [
    "sns.histplot( dfFractions.Swiss )"
   ]
  },
  {
   "cell_type": "markdown",
   "metadata": {},
   "source": [
    "You can see an histogram (light-blue).\n",
    "\n",
    "\n",
    "The *x-axis* corresponds to the fraction of Swiss people, and the *y-axis* corresponds the **count**, which for the histogram corresponds to the number of values falling in a given *bins* (i.e. a bar of the histogram).\n",
    "\n",
    "As with any graphical function, you can customize almost everything.\n",
    "Let's add a density line and change the color :"
   ]
  },
  {
   "cell_type": "code",
   "execution_count": null,
   "metadata": {},
   "outputs": [],
   "source": [
    "sns.histplot(dfFractions.Swiss, kde=True , color='red' ).set_title('histogram alone')"
   ]
  },
  {
   "cell_type": "markdown",
   "metadata": {},
   "source": [
    "> BTW, that is how you set-up colors and add a title on seaborn\n",
    "\n",
    "**Adding the density line switch the y-axis from count to density.**\n",
    "\n",
    "\n",
    "\n",
    "A different number of *bins* shows different aspects of the distribution of your data and so it is important to choose one that is appropriate to your sample size and data. \n",
    "\n",
    "By default, seaborn automatically infers the number of *bins*. \n",
    "You may stick with the original or change it :"
   ]
  },
  {
   "cell_type": "code",
   "execution_count": null,
   "metadata": {},
   "outputs": [],
   "source": [
    "# Set up a figure with multiple panels, here a 2 by 2 grid\n",
    "f, axes = plt.subplots( 2, 2, figsize=(7, 7) )\n",
    "\n",
    "# then you can specify where each plot goes on the figure with the ax argument ([0,0] is the top left corner)\n",
    "\n",
    "# Plot a simple histogram with binsize determined automatically\n",
    "sns.histplot(dfFractions['0-14 y.o.'], kde=False, color=\"b\", ax=axes[0, 0]).set_title('automatic')\n",
    "\n",
    "# Plot a simple histogram with binsize 5, 10 , 1000\n",
    "sns.histplot(dfFractions['0-14 y.o.'], bins=5   , kde=False, color=\"b\", ax=axes[0, 1]).set_title('5 bins')\n",
    "sns.histplot(dfFractions['0-14 y.o.'], bins=10  , kde=False, color=\"b\", ax=axes[1, 0]).set_title('10 bins')\n",
    "sns.histplot(dfFractions['0-14 y.o.'], bins=1000 , kde=False, color=\"b\", ax=axes[1, 1]).set_title('1000 bins')\n",
    "\n",
    "plt.tight_layout()# this makes the panels margins and setup more graceful"
   ]
  },
  {
   "cell_type": "code",
   "execution_count": null,
   "metadata": {},
   "outputs": [],
   "source": [
    "sns.kdeplot(dfFractions.Reformed, color=\"y\" , cut=0) \n",
    "# cut = 0 will prevent the curve to go beyond the min and max of the observed values"
   ]
  },
  {
   "cell_type": "markdown",
   "metadata": {},
   "source": [
    "Now that we have seen how to represent the distribution of values in a column, let's come back to our summary statistics, in particular the **mean**, the **median** and the **mode**"
   ]
  },
  {
   "cell_type": "code",
   "execution_count": null,
   "metadata": {},
   "outputs": [],
   "source": [
    "import seaborn as sns\n",
    "import matplotlib.pyplot as plt\n",
    "\n",
    "# Here we just define a small function for plotting a distribution with the mean median and mode \n",
    "def plotWithMeanMedianMode( dat , ax):\n",
    "\n",
    "    mode=dat.mode()[0] #we only select the first mode\n",
    "    mean=dat.mean()\n",
    "    median=dat.median()\n",
    "\n",
    "    sns.histplot( dat , ax=ax , kde=True) # line for histogram and density line\n",
    "\n",
    "    ax.axvline(mean, color='r', linestyle='--' , label='mean')\n",
    "    ax.axvline(median, color='g', linestyle='-' , label = \"median\")\n",
    "    ax.axvline(mode, color='b', linestyle='-' , label = \"mode \")\n",
    "    ax.legend()"
   ]
  },
  {
   "cell_type": "code",
   "execution_count": null,
   "metadata": {
    "scrolled": false
   },
   "outputs": [],
   "source": [
    "f, axes = plt.subplots( 3, 1, figsize=(15, 10) )\n",
    "\n",
    "plotWithMeanMedianMode( dfFractions['0-14 y.o.'] , ax=axes[0])\n",
    "plotWithMeanMedianMode( dfFractions['Foreigner'] , ax=axes[1])\n",
    "plotWithMeanMedianMode( dfFractions['Reformed'] , ax=axes[2])\n",
    "plt.show()"
   ]
  },
  {
   "cell_type": "markdown",
   "metadata": {},
   "source": [
    "\n",
    "[back to the toc](#toc)\n",
    "\n",
    "<br>\n",
    "\n",
    "# Exercises 02 - histograms <a id='9'></a>\n",
    "\n",
    "1. plot the distribution of the total number of habitants. Try to choose an appropriate mode of representation (histogram, density line? number of bins?)\n",
    "2. try to call `sns.histplot` twice in a row, once with to plot the fraction of Foreigner and the other for the fraction of Swiss. What happens?\n",
    "3. plot the distribution of the fraction of catholics in the canton of Zurich."
   ]
  },
  {
   "cell_type": "code",
   "execution_count": null,
   "metadata": {},
   "outputs": [],
   "source": []
  },
  {
   "cell_type": "code",
   "execution_count": null,
   "metadata": {},
   "outputs": [],
   "source": [
    "# %load -r 1-7 solutions/solution_01_02.py\n",
    "# 1. plot the distribution of the total number of habitants. Try to choose an appropriate mode of representation (histogram, density line? number of bins?)"
   ]
  },
  {
   "cell_type": "code",
   "execution_count": null,
   "metadata": {},
   "outputs": [],
   "source": [
    "# %load -r 10-14 solutions/solution_01_02.py\n",
    "# 2. try to call `sns.histplot` twice in a row, once with to plot the fraction of Foreigner and the other for the fraction of Swiss. What happens?"
   ]
  },
  {
   "cell_type": "code",
   "execution_count": null,
   "metadata": {},
   "outputs": [],
   "source": [
    "# %load -r 15- solutions/solution_01_02.py\n",
    "# 3. plot the distribution of the fraction of catholics in the canton of Zurich."
   ]
  },
  {
   "cell_type": "markdown",
   "metadata": {},
   "source": [
    "Of course, we have only scratched the surface of this form of representation. You can learn more from the [seaborn official tutorial](https://seaborn.pydata.org/tutorial/distributions.html#plotting-univariate-distributions)"
   ]
  },
  {
   "cell_type": "markdown",
   "metadata": {},
   "source": [
    "\n",
    "[back to the toc](#toc)\n",
    "\n",
    "<br>\n",
    "\n",
    "## 3.3 accounting for categories in the data  <a id='10'></a>\n",
    "\n",
    "Being able to show the distribution of the fraction of people aged 14 years old or less for your whole data-set\n",
    "(here, at national level) is all good, but often we want to compute and represent this information for different categories.\n",
    "Here the categories would be the canton, but depending on data-sets they could be a genotype (Wild-Type versus KO), sex, experimental condition, ...\n",
    "\n",
    "Of course, we could manually compute the means and plot an histogram for each category in our data-set, but pandas and seaborn offer much more efficient routines for this.\n"
   ]
  },
  {
   "cell_type": "markdown",
   "metadata": {},
   "source": [
    "We will also create a column that describes the main religion and main languague for each town:"
   ]
  },
  {
   "cell_type": "code",
   "execution_count": null,
   "metadata": {},
   "outputs": [],
   "source": [
    "dfFractions['majority religion'] = dfFractions.loc[ : , ['Reformed','Catholic','Other'] ].idxmax(axis=1)\n",
    "\n",
    "\n",
    "dfFractions['majority language'] = dfFractions.loc[ : , ['German speakers', \n",
    "                                                         'French speakers',\n",
    "                                                         'Italian speakers', \n",
    "                                                         'Romansche speakers',\n",
    "                                                         'Non-national tongue speakers'] ].idxmax(axis=1)"
   ]
  },
  {
   "cell_type": "code",
   "execution_count": null,
   "metadata": {},
   "outputs": [],
   "source": [
    "dfFractions['majority religion'].head()"
   ]
  },
  {
   "cell_type": "markdown",
   "metadata": {},
   "source": [
    "`.idxmax(axis=1)` picks out the column with maximum value for each row."
   ]
  },
  {
   "cell_type": "markdown",
   "metadata": {},
   "source": [
    "Computing a summary statistics on a pandas DataFrame is done **using the `df.groupby(...)` method and the applying some function** to the result of that grouping."
   ]
  },
  {
   "cell_type": "code",
   "execution_count": null,
   "metadata": {},
   "outputs": [],
   "source": [
    "grouped = df.groupby('canton name')## grouping by canton\n",
    "grouped['Total'].sum() ## total number of registered inhabitant for each canton "
   ]
  },
  {
   "cell_type": "code",
   "execution_count": null,
   "metadata": {},
   "outputs": [],
   "source": [
    "dfFractions.groupby('majority language')['Catholic'].mean() ## mean fraction of caholics in towns depending on the majority language"
   ]
  },
  {
   "cell_type": "code",
   "execution_count": null,
   "metadata": {},
   "outputs": [],
   "source": [
    "def getSmallestTown( data ):\n",
    "    ''' returns the name and population of the town with minimal number of inhabitants '''\n",
    "    indexsmallestTown = data.Total.idxmin()\n",
    "    return data['town name'][indexsmallestTown] , data.Total[indexsmallestTown]\n",
    "\n",
    "grouped.apply(getSmallestTown) ## name and population of the town with minimal number of inhabitants for each canton"
   ]
  },
  {
   "cell_type": "markdown",
   "metadata": {},
   "source": [
    "Computing these summary statistics is all good, but you can also vizualize them using **seaborn master function sns.catplot**\n"
   ]
  },
  {
   "cell_type": "code",
   "execution_count": null,
   "metadata": {},
   "outputs": [],
   "source": [
    "sns.catplot( x = 'majority language' , y='Catholic' ,  data=dfFractions)"
   ]
  },
  {
   "cell_type": "markdown",
   "metadata": {},
   "source": [
    "The `kind` argument let's you control the overall look of the plot. I\n",
    "It can be:\n",
    "* 'strip' : this is the default, showing all data points. \n",
    "* **'box'** : the famous boxplot\n",
    "* **'violin'** : an alternative to the boxplot using density lines\n",
    "* **'bar'** : the (in)famous barplot\n",
    "* 'swarm' : similar to 'strip' but with another way of aranging the points\n",
    "* 'boxen' : some intermediary between a boxplot and a violin plot\n",
    "* 'point' : alternative to the barplot where only the top point is shown\n",
    "\n"
   ]
  },
  {
   "cell_type": "code",
   "execution_count": null,
   "metadata": {},
   "outputs": [],
   "source": [
    "kinds = ['box','violin','bar','boxen','strip','point']#,'swarm'] # swarm takes a long time to compute\n",
    "\n",
    "\n",
    "for i,k in enumerate(kinds):\n",
    "    sns.catplot( x = 'Male' , y='majority religion' ,  data=dfFractions , kind = k ,height=2, aspect=5 )\n",
    "\n",
    "# note 2 arguments here :\n",
    "# * height : height of the plot\n",
    "# * aspect : widht/height ratio. -> higher aspect = wider figure"
   ]
  },
  {
   "cell_type": "markdown",
   "metadata": {},
   "source": [
    "We are going to concentrate on **boxplot**, **violin-plot** and **barplot** as they arguably the more used (and misused) plot encountered in publications."
   ]
  },
  {
   "cell_type": "markdown",
   "metadata": {},
   "source": [
    "\n",
    "[back to the toc](#toc)\n",
    "\n",
    "<br>\n",
    "\n",
    "### 3.3.1 Boxplots <a id='11'></a>\n",
    "\n",
    "Boxplots are made of :\n",
    "* a box : the first, second and third quartile of the data\n",
    "* whiskers : outliers \n",
    "\n",
    "But a picture is worth a thousand words:\n",
    "\n",
    "![boxplot](images/boxplot.png)\n",
    "\n",
    " * Q1/3 : first/third quartile (25%/75% of the data below)\n",
    " * IQR : interquartile range : distance between the first and third quartile"
   ]
  },
  {
   "cell_type": "markdown",
   "metadata": {},
   "source": [
    "While they are very powerful, **boxplot have trouble with multimodal data**"
   ]
  },
  {
   "cell_type": "code",
   "execution_count": null,
   "metadata": {},
   "outputs": [],
   "source": [
    "sns.catplot( x = 'German speakers' , y='majority religion' ,  \n",
    "            data=dfFractions , kind = 'box' ,height=2, aspect=5 )\n",
    "sns.catplot( x = 'German speakers' , y='majority religion' , \n",
    "            data=dfFractions , kind = 'strip' ,height=2, aspect=5 )"
   ]
  },
  {
   "cell_type": "markdown",
   "metadata": {},
   "source": [
    "\n",
    "[back to the toc](#toc)\n",
    "\n",
    "<br>\n",
    "\n",
    "### 3.3.2 violin-plots <a id='12'></a>\n",
    "\n",
    "These are representations takes boxplots one step further by drawing density lines instead of box and whiskers. "
   ]
  },
  {
   "cell_type": "code",
   "execution_count": null,
   "metadata": {},
   "outputs": [],
   "source": [
    "sns.catplot( x = 'German speakers' , y='majority religion' , \n",
    "            data=dfFractions , kind = 'violin' ,height=2, aspect=5 )"
   ]
  },
  {
   "cell_type": "markdown",
   "metadata": {},
   "source": [
    "They are generally more versatile than boxplots. \n",
    "However, the estimation of the density line means that they work better when the amount of data is large, \n",
    "and they give **strange results when the represented values are bounded** (see here, the violin plot show a density for fraction of german speakers under 0 or above 1.0 ...).\n",
    "\n",
    "You can solve this with the option `cut=0` (IMO they should make that one the default value)."
   ]
  },
  {
   "cell_type": "code",
   "execution_count": null,
   "metadata": {},
   "outputs": [],
   "source": [
    "sns.catplot( x = 'German speakers' , y='majority religion' , \n",
    "            data=dfFractions , kind = 'violin' ,height=2, aspect=5 , cut=0)"
   ]
  },
  {
   "cell_type": "markdown",
   "metadata": {},
   "source": [
    "\n",
    "[back to the toc](#toc)\n",
    "\n",
    "<br>\n",
    "\n",
    "### 3.3.3 barplots and their error bars <a id='13'></a>\n",
    "\n",
    "This representation is widely used, but it is, demonstrably, a less than optimal way of representing a distribution. \n",
    "At its code, it is a representation of two summary statistics:\n",
    "* the **mean**, which is the size of the bar\n",
    "* an **error value** which can be:\n",
    "    * range : bars extend from smallest to largest value\n",
    "    * standard deviation ($sigma$): square root of the variance\n",
    "    * standard error of the mean (SEM): $sem = \\frac{\\sigma}{\\sqrt{n}}$\n",
    "    * 95% confidence interval (CI): $1.96 * \\frac{\\sigma}{\\sqrt{n}}$\n",
    "\n",
    "The standard deviation is a measure of the variability in the data, while the **standard error of the mean is a measure of the precision of the estimate of the mean**."
   ]
  },
  {
   "cell_type": "code",
   "execution_count": null,
   "metadata": {},
   "outputs": [],
   "source": [
    "sns.catplot( x = 'German speakers' , y='majority religion' , data=dfFractions , height=2, aspect=5,\n",
    "            kind = 'bar' , ci='sd').set(title='standard deviation')\n",
    "sns.catplot( x = 'German speakers' , y='majority religion' , data=dfFractions , height=2, aspect=5,\n",
    "            kind = 'bar' , ci=95 ).set(title='95% confidence interval')\n"
   ]
  },
  {
   "cell_type": "markdown",
   "metadata": {},
   "source": [
    "**You should ALWAYS specify which type of error bar you are using.**"
   ]
  },
  {
   "cell_type": "markdown",
   "metadata": {},
   "source": [
    "\n",
    "Given all this, one can reasonnably ask the question : **Is there a *best* way ?**\n",
    "\n",
    "While the answer is not clear about the best way to represent a distribution over multiple categories, we definitely have some good answers regarding bad/misleading ways : \n",
    "\n",
    "![barplotnonsense](images/barplotNonsense.png)\n"
   ]
  },
  {
   "cell_type": "markdown",
   "metadata": {},
   "source": [
    "\n",
    "From https://stekhoven.shinyapps.io/barplotNonsense/\n",
    "\n",
    "\n",
    "Barplots :\n",
    "* Contain the same amount of information as a purely numeric summary (mean ± error)\n",
    "* **Avoid it if possible**\n",
    "* Always indicate what type of error bars you are using\n",
    "* Many articles have been written on the subject of bar charts and possible alternatives, e.g. [a Nature Biomedical Engineering Editorial](https://www.nature.com/articles/s41551-017-0079), [Stret & Gehlenborg (2014)](https://www.nature.com/articles/nmeth.2807), [a Nature Methods Editorial](https://www.nature.com/articles/nmeth.2837), [Drummond & Vowler (2011)](https://www.ncbi.nlm.nih.gov/pmc/articles/PMC3087125/) and [Weissgerber et al (2015)](https://journals.plos.org/plosbiology/article?id=10.1371/journal.pbio.1002128)"
   ]
  },
  {
   "cell_type": "markdown",
   "metadata": {},
   "source": [
    "\n",
    "[back to the toc](#toc)\n",
    "\n",
    "<br>\n",
    "\n",
    "### 3.3.4 showing several categorizations at the same time <a id='14'></a>\n",
    "\n",
    "`seaborn` offers an easy way to add categories to an existing plot with the `hue` argument:"
   ]
  },
  {
   "cell_type": "code",
   "execution_count": null,
   "metadata": {},
   "outputs": [],
   "source": [
    "#example with a density line plot\n",
    "\n",
    "k = 'box' \n",
    "\n",
    "category='majority religion'\n",
    "represented_variable=\"Italian speakers\" \n",
    "\n",
    "sns.kdeplot( x = represented_variable , hue= category , # uncomment previous to see the effect of hue\n",
    "            cut = 0, data=dfFractions  )"
   ]
  },
  {
   "cell_type": "code",
   "execution_count": null,
   "metadata": {},
   "outputs": [],
   "source": [
    "kinds = ['box','violin','bar','boxen','strip','point']#,'swarm'] # swarm takes a long time to compute\n",
    "\n",
    "categorizations=[\"majority language\",\"majority religion\"]\n",
    "\n",
    "## uncomment this to switch the categories\n",
    "#categorizations = categorizations[::-1]\n",
    "\n",
    "represented_variable=\"Total\" \n",
    "\n",
    "for i,k in enumerate(kinds):\n",
    "    g=sns.catplot( x = represented_variable , y= categorizations[0] , hue= categorizations[1] ,  \n",
    "                data=dfFractions , kind = k , orient='h',height=2, aspect=5 )\n",
    "    g.set(xscale=\"log\")\n"
   ]
  },
  {
   "cell_type": "markdown",
   "metadata": {},
   "source": [
    "\n",
    "[back to the toc](#toc)\n",
    "\n",
    "<br>\n",
    "\n",
    "# Exercise 03 - representing categories <a id='15'></a>\n",
    "\n",
    "Represent the proportion of people more 60 years old (`'60+ y.o.'`) across all cantons\n",
    " Choose the most appropriate kind of plot."
   ]
  },
  {
   "cell_type": "code",
   "execution_count": null,
   "metadata": {},
   "outputs": [],
   "source": []
  },
  {
   "cell_type": "code",
   "execution_count": null,
   "metadata": {},
   "outputs": [],
   "source": [
    "# %load  solutions/solution_01_03.py"
   ]
  },
  {
   "cell_type": "code",
   "execution_count": null,
   "metadata": {},
   "outputs": [],
   "source": []
  },
  {
   "cell_type": "markdown",
   "metadata": {},
   "source": [
    "# interlude - writing data and plot\n",
    "\n",
    "To write your data-set to a file, use :"
   ]
  },
  {
   "cell_type": "code",
   "execution_count": null,
   "metadata": {
    "tags": []
   },
   "outputs": [],
   "source": [
    "dfFractions.to_csv('data/census1880_fractions.csv')"
   ]
  },
  {
   "cell_type": "markdown",
   "metadata": {},
   "source": [
    "and for figures :"
   ]
  },
  {
   "cell_type": "code",
   "execution_count": null,
   "metadata": {},
   "outputs": [],
   "source": [
    "# make you plot as usual, redirect them to a variable\n",
    "represented_variable , category = 'Total' , 'majority language'\n",
    "myPlot = sns.catplot( x = represented_variable , y= category ,\n",
    "             data=dfFractions , kind = k , orient='h',height=10, aspect=2 )\n",
    "\n",
    "myPlot.savefig(\"output.png\")\n",
    "# many formats can be specified with the name of the file\n",
    "# for example : .pdf, .svg, .jpg, ...\n",
    "# for raster formats, the dpi argument can help define the image quality"
   ]
  },
  {
   "cell_type": "code",
   "execution_count": null,
   "metadata": {},
   "outputs": [],
   "source": [
    "# For multipanel figures :\n",
    "f, axes = plt.subplots( 2, 2, figsize=(7, 7) )\n",
    "\n",
    "sns.histplot(dfFractions['0-14 y.o.'], kde=False, color=\"b\", ax=axes[0, 0]).set_title('automatic')\n",
    "sns.histplot(dfFractions['0-14 y.o.'], bins=5   , kde=False, color=\"b\", ax=axes[0, 1]).set_title('5 bins')\n",
    "sns.histplot(dfFractions['0-14 y.o.'], bins=10  , kde=False, color=\"b\", ax=axes[1, 0]).set_title('10 bins')\n",
    "sns.histplot(dfFractions['0-14 y.o.'], bins=1000 , kde=False, color=\"b\", ax=axes[1, 1]).set_title('1000 bins')\n",
    "plt.tight_layout()# this makes the panels margins and setup more graceful\n",
    "\n",
    "f.savefig('output_multipanel.pdf')"
   ]
  },
  {
   "cell_type": "markdown",
   "metadata": {},
   "source": [
    "\n",
    "[back to the toc](#toc)\n",
    "\n",
    "<br>\n",
    "\n",
    "# 4 Additional types of plots and some *caveat* about graphical representations <a id='16'></a>\n",
    "\n",
    "Graphical representations are instrumental to both support the message we want to convey from our analysis and help us investigate our data. However, not all way of representing data are equal.\n",
    "\n",
    "[Cleveland et al. 1984](https://info.sice.indiana.edu/~katy/S637-S11/cleveland84.pdf) tested, among others, the capacity of respondent to assess the ratio between different quantities shown of a graph.\n",
    "\n",
    "![cleveland84_fig3](images/cleveland84_fig3.png)\n",
    "![cleveland84_fig4](images/cleveland84_fig4.png)\n"
   ]
  },
  {
   "cell_type": "markdown",
   "metadata": {},
   "source": [
    "They distinguish:\n",
    "* **position judgment** : judging using an aligned axis\n",
    "* **length judgment** : judging using a non aligned axis\n",
    "* **angle judgment** : judging from angles only"
   ]
  },
  {
   "cell_type": "markdown",
   "metadata": {},
   "source": [
    "![cleveland84_fig16.png](images/cleveland84_fig16.png)\n",
    "\n",
    "* **Position judgements are more accurate** than length judgements\n",
    "* For position judgements, as the distance between the points along an axis perpendicular to the “common scale” increases, the accuracy decreases\n",
    "* Position judgements are more accurate than angle judgements\n"
   ]
  },
  {
   "cell_type": "markdown",
   "metadata": {},
   "source": [
    "**3D pie chart are even worse** as they distort our perception of angles/area.\n",
    "\n",
    "From the [visually blog](https://visual.ly/blog/2ds-company-3ds-a-crowd/):\n",
    "\n",
    "![pie_angle](images/pie_angle.png)\n",
    "![pie_angle](images/pie_angle2.png)\n",
    "\n",
    "Abuse of these distortions can be seen in [commercial presentation](https://paragraft.wordpress.com/2008/06/03/the-chart-junk-of-steve-jobs/). Be aware of them and avoid misrepresenting your own data.\n"
   ]
  },
  {
   "cell_type": "markdown",
   "metadata": {},
   "source": [
    "Here is also another demonstration on how simple can (often) be better :\n",
    "![pie_to_bar](images/data_visualization_pie_to_bar.gif)"
   ]
  }
 ],
 "metadata": {
  "kernelspec": {
   "display_name": "Environment (conda_py38)",
   "language": "python",
   "name": "conda_py38"
  },
  "language_info": {
   "codemirror_mode": {
    "name": "ipython",
    "version": 3
   },
   "file_extension": ".py",
   "mimetype": "text/x-python",
   "name": "python",
   "nbconvert_exporter": "python",
   "pygments_lexer": "ipython3",
   "version": "3.8.8"
  }
 },
 "nbformat": 4,
 "nbformat_minor": 4
}
